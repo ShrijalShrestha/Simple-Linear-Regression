{
  "nbformat": 4,
  "nbformat_minor": 0,
  "metadata": {
    "colab": {
      "provenance": []
    },
    "kernelspec": {
      "name": "python3",
      "display_name": "Python 3"
    },
    "language_info": {
      "name": "python"
    }
  },
  "cells": [
    {
      "cell_type": "markdown",
      "source": [
        "#Implement Linear Regression and calculate sum of residual error on the following datasets.\n",
        "# x = [0, 1, 2, 3, 4, 5, 6, 7, 8, 9]\n",
        "# y = [1, 3, 2, 5, 7, 8, 8, 9, 10, 12]\n",
        "Compute the regression coefficients using analytic formulation and calculate Sum Squared Error (SSE) and R^2 value.\n",
        "Implement gradient descent (both Full-batch and Stochastic with stopping\n",
        "criteria) on Least Mean Square loss formulation to compute the coefficients of regression matrix and compare the results using performance measures such as R^2, SSE etc."
      ],
      "metadata": {
        "id": "zFGzS5_P89qd"
      }
    },
    {
      "cell_type": "code",
      "execution_count": 1,
      "metadata": {
        "id": "xR_TWV1g7ebx"
      },
      "outputs": [],
      "source": [
        "import numpy as np"
      ]
    },
    {
      "cell_type": "code",
      "source": [
        "x = np.array([0, 1, 2, 3, 4, 5, 6, 7, 8, 9])\n",
        "y = np.array([1, 3, 2, 5, 7, 8, 8, 9, 10, 12])"
      ],
      "metadata": {
        "id": "R-3u8Gnn82EG"
      },
      "execution_count": 2,
      "outputs": []
    },
    {
      "cell_type": "markdown",
      "source": [
        "Analytic formulation"
      ],
      "metadata": {
        "id": "fbeVUU1wqfs2"
      }
    },
    {
      "cell_type": "code",
      "source": [
        "# Calculating regression coefficients\n",
        "def estimate_coef(x, y):\n",
        "    n = np.size(x)\n",
        "\n",
        "    m_x, m_y = np.mean(x), np.mean(y)\n",
        "\n",
        "    SS_xy = np.sum((x-m_x)*(y-m_y))\n",
        "    SS_xx = np.sum((x-m_x)**2)\n",
        "\n",
        "    b_1 = SS_xy / SS_xx\n",
        "    b_0 = m_y - b_1 * m_x\n",
        "\n",
        "    return (b_0, b_1)\n",
        "b0, b1 = estimate_coef(x, y)\n",
        "print(f'Intercept: {b0}')\n",
        "print(f'Coefficient: {b1}')"
      ],
      "metadata": {
        "id": "YrVfP94aUvms",
        "colab": {
          "base_uri": "https://localhost:8080/"
        },
        "outputId": "073e3952-b409-4429-f8e4-37ce31790cf7"
      },
      "execution_count": 3,
      "outputs": [
        {
          "output_type": "stream",
          "name": "stdout",
          "text": [
            "Intercept: 1.2363636363636363\n",
            "Coefficient: 1.1696969696969697\n"
          ]
        }
      ]
    },
    {
      "cell_type": "code",
      "source": [
        "# Prediction\n",
        "def predict(x, b0, b1):\n",
        "    y_prd = b0 + b1 * x\n",
        "    return y_prd\n",
        "# Sum of Squared Errors (SSE)\n",
        "def calculate_sse(y_true, y_pred):\n",
        "    return np.sum((y_true - y_pred) ** 2)\n",
        "# Coefficient of Determination (R²)\n",
        "def calculate_r2(y_true, y_pred):\n",
        "    ss_total = np.sum((y_true - np.mean(y_true)) ** 2)\n",
        "    ss_error = np.sum((y_true - y_pred) ** 2)\n",
        "    return 1 - (ss_error / ss_total)\n",
        "y_pred = predict(x, b0, b1)\n",
        "print(f'SSE: {calculate_sse(y, y_pred)}')\n",
        "print(f'R²: {calculate_r2(y, y_pred)}')"
      ],
      "metadata": {
        "id": "3i499xdLbEpA",
        "colab": {
          "base_uri": "https://localhost:8080/"
        },
        "outputId": "9baa4e3c-f614-4cd1-b9cc-7402001f03aa"
      },
      "execution_count": 4,
      "outputs": [
        {
          "output_type": "stream",
          "name": "stdout",
          "text": [
            "SSE: 5.624242424242423\n",
            "R²: 0.952538038613988\n"
          ]
        }
      ]
    },
    {
      "cell_type": "markdown",
      "source": [
        "**Gradiient Descent**"
      ],
      "metadata": {
        "id": "v7zolykRUput"
      }
    },
    {
      "cell_type": "code",
      "source": [
        "def full_batch_gradient_descent(x, y, alpha=0.001, iterations=1000):\n",
        "    # Initialize coefficients\n",
        "    b0 = 0\n",
        "    b1 = 0\n",
        "\n",
        "    # Number of observations\n",
        "    n = np.size(x)\n",
        "\n",
        "    # Gradient descent iterations\n",
        "    for j in range(iterations):\n",
        "        # Compute the predicted y values\n",
        "        y_expected = b0 + b1 * x\n",
        "\n",
        "        # Calculate gradients\n",
        "        b0_gradient = -2 * np.sum(y - y_expected) / n\n",
        "        b1_gradient = -2 * np.sum((y - y_expected) * x) / n\n",
        "\n",
        "        # Update coefficients\n",
        "        b0 -= alpha * b0_gradient\n",
        "        b1 -= alpha * b1_gradient\n",
        "\n",
        "    return b0, b1\n",
        "\n",
        "\n",
        "# Calculate coefficients using gradient descent\n",
        "b0_full_gd, b1_full_gd = full_batch_gradient_descent(x, y)\n",
        "y_full_gd = predict(x, b0_full_gd, b1_full_gd)\n",
        "sse_full_gd = calculate_sse(y, y_full_gd)\n",
        "r2_full_gd = calculate_r2(y, y_full_gd)\n",
        "\n",
        "print(\"Full-batch gradient descent:\")\n",
        "print(f\"b0: {b0_full_gd}, b1: {b1_full_gd}\")\n",
        "print(f\"SSE: {sse_full_gd}, R²: {r2_full_gd}\\n\")\n"
      ],
      "metadata": {
        "colab": {
          "base_uri": "https://localhost:8080/"
        },
        "id": "8hGhlPl5Yhz7",
        "outputId": "f0ff29eb-e537-4a3f-b26e-30637eae55ef"
      },
      "execution_count": 10,
      "outputs": [
        {
          "output_type": "stream",
          "name": "stdout",
          "text": [
            "Full-batch gradient descent:\n",
            "b0: 0.6544167888202637, b1: 1.262502787535618\n",
            "SSE: 6.604821126698995, R²: 0.9442631128548608\n",
            "\n"
          ]
        }
      ]
    },
    {
      "cell_type": "code",
      "source": [
        "import numpy as np\n",
        "import matplotlib.pyplot as plt\n",
        "\n",
        "def stochastic_gradient_descent(x, y, alpha=0.001, iterations=1000):\n",
        "    # Initialize coefficients\n",
        "    b0 = 0\n",
        "    b1 = 0\n",
        "\n",
        "    # Number of observations\n",
        "    n = np.size(x)\n",
        "\n",
        "    # Stochastic gradient descent iterations\n",
        "    for j in range(iterations):\n",
        "        # Shuffle the data points\n",
        "        indices = np.arange(n)\n",
        "        np.random.shuffle(indices)\n",
        "\n",
        "        for i in indices:\n",
        "            # Compute the predicted y value for the current data point\n",
        "            y_pred = b0 + b1 * x[i]\n",
        "\n",
        "            # Calculate gradients using a single data point\n",
        "            b0_gradient = -2 * (y[i] - y_pred)\n",
        "            b1_gradient = -2 * (y[i] - y_pred) * x[i]\n",
        "\n",
        "            # Update coefficients\n",
        "            b0 -= alpha * b0_gradient\n",
        "            b1 -= alpha * b1_gradient\n",
        "\n",
        "    return b0, b1\n",
        "\n",
        "# Calculate coefficients using stochastic gradient descent\n",
        "b0_sgd, b1_sgd = stochastic_gradient_descent(x, y)\n",
        "y_sgd = predict(x, b0_sgd, b1_sgd)\n",
        "sse_sgd = calculate_sse(y, y_sgd)\n",
        "r2_sgd = calculate_r2(y, y_sgd)\n",
        "\n",
        "print(\"Stochastic gradient descent:\")\n",
        "print(f\"b0: {b0_sgd}, b1: {b1_sgd}\")\n",
        "print(f\"SSE: {sse_sgd}, R²: {r2_sgd}\")\n"
      ],
      "metadata": {
        "colab": {
          "base_uri": "https://localhost:8080/"
        },
        "id": "1TKA3pRiaORV",
        "outputId": "b4527275-46c5-4c10-af33-ede500798bf8"
      },
      "execution_count": 9,
      "outputs": [
        {
          "output_type": "stream",
          "name": "stdout",
          "text": [
            "Stochastic gradient descent:\n",
            "b0: 1.2361631318652395, b1: 1.1658200016321931\n",
            "SSE: 5.628596588913263, R²: 0.9525012946083269\n"
          ]
        }
      ]
    }
  ]
}